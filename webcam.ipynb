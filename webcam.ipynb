{
 "cells": [
  {
   "cell_type": "code",
   "execution_count": 1,
   "metadata": {},
   "outputs": [],
   "source": [
    "import time\n",
    "import cv2\n",
    "import numpy as np\n",
    "import torchvision\n",
    "import PIL\n",
    "from fastai.vision import *"
   ]
  },
  {
   "cell_type": "code",
   "execution_count": 2,
   "metadata": {},
   "outputs": [],
   "source": [
    "path = r'C:\\Users\\onlyt\\webcam\\emojii\\smileface.png'\n",
    "img = cv2.imread(path,-1)\n",
    "img_counter = 0"
   ]
  },
  {
   "cell_type": "code",
   "execution_count": 3,
   "metadata": {},
   "outputs": [],
   "source": [
    "def face_detection(img):\n",
    "    FACE_CLASSIFIER = cv2.CascadeClassifier(cv2.data.haarcascades + 'haarcascade_frontalface_default.xml')\n",
    "    EYE_CLASSIFIER = cv2.CascadeClassifier(cv2.data.haarcascades + 'haarcascade_eye.xml')\n",
    "\n",
    "    gray = cv2.cvtColor(img,cv2.COLOR_BGR2GRAY)\n",
    "\n",
    "    faces = FACE_CLASSIFIER.detectMultiScale(gray, 1.3, 5)\n",
    "\n",
    "    for (x,y,w,h) in faces:\n",
    "        cv2.rectangle(img,(x,y),(x+w,y+h+10),(255,0,0),2)\n",
    "        roi_gray = gray[y:y+h, x:x+w]\n",
    "        roi_color = img[y:y+h, x:x+w]\n",
    "#         eyes = EYE_CLASSIFIER.detectMultiScale(roi_gray)\n",
    "#         for(ex,ey,ew,eh) in eyes:\n",
    "#             cv2.rectangle(roi_color,(ex,ey),(ex+ew,ey+eh),(0,255,0),2)\n",
    "    return img[y:y+h, x:x+w]"
   ]
  },
  {
   "cell_type": "code",
   "execution_count": 4,
   "metadata": {},
   "outputs": [],
   "source": [
    "#emojii\n",
    "emojii = []\n",
    "arrows0 = cv2.imread(\"emojii/smileface.png\")\n",
    "arrows = cv2.resize(arrows0,None,fx=0.5,fy=0.5,interpolation=cv2.INTER_CUBIC)\n",
    "arrows = cv2.resize(arrows0,(100,100),interpolation=cv2.INTER_AREA)\n",
    "emojii.append(arrows)\n",
    "\n",
    "arrows0 = cv2.imread(\"emojii/sadface.png\")\n",
    "arrows = cv2.resize(arrows0,None,fx=0.5,fy=0.5,interpolation=cv2.INTER_CUBIC)\n",
    "arrows = cv2.resize(arrows0,(100,100),interpolation=cv2.INTER_AREA)\n",
    "emojii.append(arrows)\n",
    "\n",
    "arrows0 = cv2.imread(\"emojii/normalface.jpg\")\n",
    "arrows = cv2.resize(arrows0,None,fx=0.5,fy=0.5,interpolation=cv2.INTER_CUBIC)\n",
    "arrows = cv2.resize(arrows0,(100,100),interpolation=cv2.INTER_AREA)\n",
    "emojii.append(arrows)"
   ]
  },
  {
   "cell_type": "code",
   "execution_count": null,
   "metadata": {},
   "outputs": [],
   "source": [
    "learn = load_learner('dataset/models')\n",
    "cv2.namedWindow(\"preview\")\n",
    "\n",
    "vc = cv2.VideoCapture(0)\n",
    "\n",
    "x_offset=y_offset=10\n",
    "c = 0\n",
    "img_counter = 0\n",
    "choosen_emojii = None\n",
    "\n",
    "if vc.isOpened(): # try to get the first frame\n",
    "    rval, frame = vc.read()\n",
    "else:\n",
    "    rval = False\n",
    "\n",
    "while rval:\n",
    "#     cv2.imshow(\"preview\", frame)\n",
    "    rval, frame = vc.read()\n",
    "    try:\n",
    "        img = face_detection(frame)\n",
    "        c = c + 1\n",
    "        if c == 10:\n",
    "            img = PIL.Image.fromarray(img).convert('LA')\n",
    "            img = Image(pil2tensor(img.convert(\"RGB\"), np.float32).div_(255))\n",
    "            pred_class,pred_idx,outputs = learn.predict(img)\n",
    "            pred_class = str(pred_class)\n",
    "\n",
    "            if pred_class == 'smile':\n",
    "                choosen_emojii = 0\n",
    "            elif pred_class=='sad':\n",
    "                choosen_emojii = 1\n",
    "            elif pred_class == 'normal':\n",
    "                choosen_emojii = 2\n",
    "            c=0\n",
    "    except:\n",
    "        pass\n",
    "        \n",
    "    if choosen_emojii != None:\n",
    "        frame[y_offset:y_offset+emojii[2].shape[0], x_offset:x_offset+emojii[2].shape[1]]=emojii[choosen_emojii]    \n",
    "    cv2.imshow(\"preview\", frame)\n",
    "    key = cv2.waitKey(20)\n",
    "    if key == 27: # exit on ESC\n",
    "        out = img\n",
    "        break\n",
    "    elif key%256 == 32:\n",
    "        # SPACE pressed\n",
    "        img_name = \"dataset/opencv_frame_{}.png\".format(img_counter)\n",
    "        img = cv2.cvtColor(img, cv2.COLOR_BGR2GRAY)\n",
    "        cv2.imwrite(img_name, img)\n",
    "        print(\"{} written!\".format(img_name))\n",
    "        img_counter += 1\n",
    "cv2.destroyWindow(\"preview\")"
   ]
  },
  {
   "cell_type": "code",
   "execution_count": null,
   "metadata": {},
   "outputs": [],
   "source": []
  },
  {
   "cell_type": "code",
   "execution_count": null,
   "metadata": {},
   "outputs": [],
   "source": []
  }
 ],
 "metadata": {
  "kernelspec": {
   "display_name": "Python 3",
   "language": "python",
   "name": "python3"
  },
  "language_info": {
   "codemirror_mode": {
    "name": "ipython",
    "version": 3
   },
   "file_extension": ".py",
   "mimetype": "text/x-python",
   "name": "python",
   "nbconvert_exporter": "python",
   "pygments_lexer": "ipython3",
   "version": "3.7.1"
  }
 },
 "nbformat": 4,
 "nbformat_minor": 2
}
